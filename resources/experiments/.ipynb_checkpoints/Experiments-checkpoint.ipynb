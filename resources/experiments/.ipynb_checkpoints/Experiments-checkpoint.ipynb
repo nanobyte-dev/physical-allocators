{
 "cells": [
  {
   "cell_type": "markdown",
   "id": "313b1d0f-01d9-4d67-a426-53078733c1e4",
   "metadata": {},
   "source": [
    "# Some experiments"
   ]
  },
  {
   "cell_type": "markdown",
   "id": "efd82aab-918b-4abb-933d-fd532860f658",
   "metadata": {},
   "source": [
    "## Formula that always gives different result\n",
    "\n",
    "Given i, j in range \\[0, 3\\], this formula will always output a result in \\[0, 3\\] different than i or j."
   ]
  },
  {
   "cell_type": "code",
   "execution_count": 6,
   "id": "15dc58ae-4a63-4711-83c6-06e640a335fc",
   "metadata": {},
   "outputs": [
    {
     "name": "stdout",
     "output_type": "stream",
     "text": [
      "ok: 0 0 3\n",
      "ok: 0 1 2\n",
      "ok: 0 2 1\n",
      "ok: 1 0 2\n",
      "ok: 1 1 3\n",
      "ok: 1 2 0\n",
      "ok: 2 0 1\n",
      "ok: 2 1 0\n",
      "ok: 2 2 3\n"
     ]
    }
   ],
   "source": [
    "def func(i, j):\n",
    "    return (i ^ ~j) & 0x3\n",
    "\n",
    "for i in range(3):\n",
    "    for j in range(3):\n",
    "        r = func(i, j)\n",
    "        if r == i or r == j:\n",
    "            print('fail:', i, j, r)\n",
    "        else:\n",
    "            print('ok:', i, j, r)"
   ]
  },
  {
   "cell_type": "code",
   "execution_count": null,
   "id": "1c97f253-db02-4b76-956d-440934218590",
   "metadata": {},
   "outputs": [],
   "source": []
  }
 ],
 "metadata": {
  "kernelspec": {
   "display_name": "Python 3 (ipykernel)",
   "language": "python",
   "name": "python3"
  },
  "language_info": {
   "codemirror_mode": {
    "name": "ipython",
    "version": 3
   },
   "file_extension": ".py",
   "mimetype": "text/x-python",
   "name": "python",
   "nbconvert_exporter": "python",
   "pygments_lexer": "ipython3",
   "version": "3.10.7"
  }
 },
 "nbformat": 4,
 "nbformat_minor": 5
}
