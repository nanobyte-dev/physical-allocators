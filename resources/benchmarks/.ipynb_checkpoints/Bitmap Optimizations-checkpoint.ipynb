{
 "cells": [
  {
   "cell_type": "code",
   "execution_count": 1,
   "id": "1fd77cc6-1bdb-4dae-bd13-e03a11eaebce",
   "metadata": {
    "tags": []
   },
   "outputs": [],
   "source": [
    "import pandas as pd\n",
    "import numpy as np\n",
    "import matplotlib.pyplot as plt\n",
    "from matplotlib.ticker import (MultipleLocator, AutoMinorLocator)"
   ]
  },
  {
   "cell_type": "code",
   "execution_count": 2,
   "id": "e3200263-b9f9-40aa-8859-c5b7118b30b1",
   "metadata": {
    "tags": []
   },
   "outputs": [],
   "source": [
    "headers = [\"Test\", \"Avg (us)\", \"Low 95th (us)\", \"High 95th (us)\"]\n",
    "title = \"Bitmap Allocator (first fit)\"\n",
    "file_format = 'rendered/bitmap_first_fit_{0}_optimization_5.png'\n",
    "is_alloc = True\n",
    "\n",
    "data_alloc = [\n",
    "    [\"Baseline\", 140.20931, 161.967, 119.46],\n",
    "    [\"MarkBlocks memset optimization\", 141.98858, 162.978, 121.597],\n",
    "    [\"FindFreeRegion entire bytes\", 48.620222, 55.021, 38.399],\n",
    "    [\"uint32 instead of uint8\", 45.681314, 54.452, 38.687],\n",
    "    [\"Next fit\", 30.104007, 42.257, 26.753],\n",
    "    [\"Best fit\", 191.34481, 244.055, 143.076],\n",
    "    [\"Worst fit\", 339.30504, 394.87, 288.011],\n",
    "]\n",
    "data_free = [\n",
    "    [\"Baseline\", 26.056452, 26.958, 25.335],\n",
    "    [\"MarkBlocks memset optimization\", 24.687148, 26.079, 23.884],\n",
    "    [\"FindFreeRegion entire bytes\", 26.032175, 26.083, 25.158],\n",
    "    [\"uint32 instead of uint8\", 26.772401, 27.794, 26.106],\n",
    "    [\"Next fit\", 25.392118, 26.222, 24.914],\n",
    "    [\"Best fit\", 25.392118, 26.222, 24.914],\n",
    "    [\"Worst fit\", 25.392118, 26.222, 24.914],\n",
    "]\n",
    "\n",
    "if is_alloc:\n",
    "    data = data_alloc\n",
    "    title += ' - Allocate'\n",
    "    file = file_format.format('allocate')\n",
    "else:\n",
    "    data = data_free\n",
    "    title += ' - Free'\n",
    "    file = file_format.format('free')"
   ]
  },
  {
   "cell_type": "code",
   "execution_count": 3,
   "id": "fe6253a0-57c7-48af-adb4-4319e8ba50f1",
   "metadata": {
    "tags": []
   },
   "outputs": [
    {
     "data": {
      "text/html": [
       "<div>\n",
       "<style scoped>\n",
       "    .dataframe tbody tr th:only-of-type {\n",
       "        vertical-align: middle;\n",
       "    }\n",
       "\n",
       "    .dataframe tbody tr th {\n",
       "        vertical-align: top;\n",
       "    }\n",
       "\n",
       "    .dataframe thead th {\n",
       "        text-align: right;\n",
       "    }\n",
       "</style>\n",
       "<table border=\"1\" class=\"dataframe\">\n",
       "  <thead>\n",
       "    <tr style=\"text-align: right;\">\n",
       "      <th></th>\n",
       "      <th>Test</th>\n",
       "      <th>Avg (us)</th>\n",
       "      <th>Low 95th (us)</th>\n",
       "      <th>High 95th (us)</th>\n",
       "    </tr>\n",
       "  </thead>\n",
       "  <tbody>\n",
       "    <tr>\n",
       "      <th>0</th>\n",
       "      <td>Baseline</td>\n",
       "      <td>140.209310</td>\n",
       "      <td>161.967</td>\n",
       "      <td>119.460</td>\n",
       "    </tr>\n",
       "    <tr>\n",
       "      <th>1</th>\n",
       "      <td>MarkBlocks memset optimization</td>\n",
       "      <td>141.988580</td>\n",
       "      <td>162.978</td>\n",
       "      <td>121.597</td>\n",
       "    </tr>\n",
       "    <tr>\n",
       "      <th>2</th>\n",
       "      <td>FindFreeRegion entire bytes</td>\n",
       "      <td>48.620222</td>\n",
       "      <td>55.021</td>\n",
       "      <td>38.399</td>\n",
       "    </tr>\n",
       "    <tr>\n",
       "      <th>3</th>\n",
       "      <td>uint32 instead of uint8</td>\n",
       "      <td>45.681314</td>\n",
       "      <td>54.452</td>\n",
       "      <td>38.687</td>\n",
       "    </tr>\n",
       "    <tr>\n",
       "      <th>4</th>\n",
       "      <td>Next fit</td>\n",
       "      <td>30.104007</td>\n",
       "      <td>42.257</td>\n",
       "      <td>26.753</td>\n",
       "    </tr>\n",
       "    <tr>\n",
       "      <th>5</th>\n",
       "      <td>Best fit</td>\n",
       "      <td>191.344810</td>\n",
       "      <td>244.055</td>\n",
       "      <td>143.076</td>\n",
       "    </tr>\n",
       "    <tr>\n",
       "      <th>6</th>\n",
       "      <td>Worst fit</td>\n",
       "      <td>339.305040</td>\n",
       "      <td>394.870</td>\n",
       "      <td>288.011</td>\n",
       "    </tr>\n",
       "  </tbody>\n",
       "</table>\n",
       "</div>"
      ],
      "text/plain": [
       "                             Test    Avg (us)  Low 95th (us)  High 95th (us)\n",
       "0                        Baseline  140.209310        161.967         119.460\n",
       "1  MarkBlocks memset optimization  141.988580        162.978         121.597\n",
       "2     FindFreeRegion entire bytes   48.620222         55.021          38.399\n",
       "3         uint32 instead of uint8   45.681314         54.452          38.687\n",
       "4                        Next fit   30.104007         42.257          26.753\n",
       "5                        Best fit  191.344810        244.055         143.076\n",
       "6                       Worst fit  339.305040        394.870         288.011"
      ]
     },
     "execution_count": 3,
     "metadata": {},
     "output_type": "execute_result"
    }
   ],
   "source": [
    "\n",
    "data = pd.DataFrame(data, columns=headers)\n",
    "data"
   ]
  },
  {
   "cell_type": "code",
   "execution_count": 4,
   "id": "890fc848-39ee-4ecc-be18-1d9210bc7428",
   "metadata": {
    "tags": []
   },
   "outputs": [
    {
     "data": {
      "text/plain": [
       "[0    21.757690\n",
       " 1    20.989420\n",
       " 2     6.400778\n",
       " 3     8.770686\n",
       " 4    12.152993\n",
       " 5    52.710190\n",
       " 6    55.564960\n",
       " dtype: float64,\n",
       " 0    20.749310\n",
       " 1    20.391580\n",
       " 2    10.221222\n",
       " 3     6.994314\n",
       " 4     3.351007\n",
       " 5    48.268810\n",
       " 6    51.294040\n",
       " dtype: float64]"
      ]
     },
     "execution_count": 4,
     "metadata": {},
     "output_type": "execute_result"
    }
   ],
   "source": [
    "# Calculate error\n",
    "error = [np.subtract(data['Low 95th (us)'], data['Avg (us)']),\n",
    "         np.subtract(data['Avg (us)'], data['High 95th (us)'])]\n",
    "error"
   ]
  },
  {
   "cell_type": "code",
   "execution_count": 6,
   "id": "6d8783fd-fec4-4921-94c5-1556d5abcc74",
   "metadata": {
    "tags": []
   },
   "outputs": [
    {
     "data": {
      "image/png": "[encoded data removed]",
      "text/plain": [
       "<Figure size 1000x366.5 with 1 Axes>"
      ]
     },
     "metadata": {},
     "output_type": "display_data"
    }
   ],
   "source": [
    "plt.style.use('dark_background')\n",
    "plt.rcParams['font.family'] = 'Century Gothic'\n",
    "base_height = 1.04\n",
    "row_height = 0.375\n",
    "plt.figure(figsize=(10, base_height + row_height * len(data.index)))\n",
    "plt.title(title, fontsize=16, pad=20)\n",
    "plt.gca().invert_yaxis()\n",
    "ax = plt.subplot()\n",
    "ax.barh(data['Test'],\n",
    "        data['Avg (us)'],\n",
    "        color='#C678DD',\n",
    "        xerr=error,\n",
    "        ecolor='#ccc',\n",
    "        alpha=0.7,\n",
    "        capsize=4,\n",
    "        height=.7)\n",
    "ax.set_xlabel('Time (ns) - lower is better')\n",
    "ax.xaxis.set_major_locator(MultipleLocator(20))\n",
    "ax.xaxis.set_minor_locator(MultipleLocator(10))\n",
    "ax.grid(True, axis='x', color='white', alpha=.1)\n",
    "ax.spines[['right', 'top']].set_visible(False)\n",
    "fig = plt.gcf()\n",
    "fig.tight_layout()\n",
    "fig.savefig(file, transparent=True, dpi=300)\n",
    "plt.show()"
   ]
  }
 ],
 "metadata": {
  "kernelspec": {
   "display_name": "Python 3 (ipykernel)",
   "language": "python",
   "name": "python3"
  },
  "language_info": {
   "codemirror_mode": {
    "name": "ipython",
    "version": 3
   },
   "file_extension": ".py",
   "mimetype": "text/x-python",
   "name": "python",
   "nbconvert_exporter": "python",
   "pygments_lexer": "ipython3",
   "version": "3.10.11"
  }
 },
 "nbformat": 4,
 "nbformat_minor": 5
}
