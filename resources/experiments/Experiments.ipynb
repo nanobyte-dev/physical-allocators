{
 "cells": [
  {
   "cell_type": "markdown",
   "id": "313b1d0f-01d9-4d67-a426-53078733c1e4",
   "metadata": {},
   "source": [
    "# Some experiments"
   ]
  },
  {
   "cell_type": "markdown",
   "id": "efd82aab-918b-4abb-933d-fd532860f658",
   "metadata": {},
   "source": [
    "## Formula that always gives different result\n",
    "\n",
    "Given i, j in range \\[0, 3\\], this formula will always output a result in \\[0, 3\\] different than i or j."
   ]
  },
  {
   "cell_type": "code",
   "execution_count": 6,
   "id": "15dc58ae-4a63-4711-83c6-06e640a335fc",
   "metadata": {},
   "outputs": [
    {
     "name": "stdout",
     "output_type": "stream",
     "text": [
      "ok: 0 0 3\n",
      "ok: 0 1 2\n",
      "ok: 0 2 1\n",
      "ok: 1 0 2\n",
      "ok: 1 1 3\n",
      "ok: 1 2 0\n",
      "ok: 2 0 1\n",
      "ok: 2 1 0\n",
      "ok: 2 2 3\n"
     ]
    }
   ],
   "source": [
    "def func(i, j):\n",
    "    return (i ^ ~j) & 0x3\n",
    "\n",
    "for i in range(3):\n",
    "    for j in range(3):\n",
    "        r = func(i, j)\n",
    "        if r == i or r == j:\n",
    "            print('fail:', i, j, r)\n",
    "        else:\n",
    "            print('ok:', i, j, r)"
   ]
  },
  {
   "cell_type": "markdown",
   "id": "8fed0ada-17f7-4f22-8607-c212887e9164",
   "metadata": {},
   "source": [
    "## Layer from number of blocks to allocate"
   ]
  },
  {
   "cell_type": "code",
   "execution_count": 10,
   "id": "878112ab-c5b0-46a9-b8e8-3862815fb0c7",
   "metadata": {},
   "outputs": [
    {
     "name": "stdout",
     "output_type": "stream",
     "text": [
      "1 0\n",
      "2 1\n",
      "3 2\n",
      "4 2\n",
      "5 3\n",
      "6 3\n",
      "7 3\n",
      "8 3\n",
      "9 4\n",
      "10 4\n",
      "11 4\n",
      "12 4\n",
      "13 4\n",
      "14 4\n",
      "15 4\n",
      "16 4\n",
      "17 5\n",
      "18 5\n",
      "19 5\n"
     ]
    }
   ],
   "source": [
    "import math\n",
    "\n",
    "def is_power_of_2(x):\n",
    "    return (x & (x - 1)) == 0\n",
    "\n",
    "def layer(blocks):\n",
    "    l = math.floor(math.log2(blocks))\n",
    "    if is_power_of_2(blocks):\n",
    "        return l\n",
    "    return l + 1\n",
    "\n",
    "for i in range(1, 20):\n",
    "    print(i, layer(i))"
   ]
  },
  {
   "cell_type": "code",
   "execution_count": null,
   "id": "e681ea64-02ac-4db3-b2b0-d6394008523e",
   "metadata": {},
   "outputs": [],
   "source": []
  }
 ],
 "metadata": {
  "kernelspec": {
   "display_name": "Python 3 (ipykernel)",
   "language": "python",
   "name": "python3"
  },
  "language_info": {
   "codemirror_mode": {
    "name": "ipython",
    "version": 3
   },
   "file_extension": ".py",
   "mimetype": "text/x-python",
   "name": "python",
   "nbconvert_exporter": "python",
   "pygments_lexer": "ipython3",
   "version": "3.10.7"
  }
 },
 "nbformat": 4,
 "nbformat_minor": 5
}
